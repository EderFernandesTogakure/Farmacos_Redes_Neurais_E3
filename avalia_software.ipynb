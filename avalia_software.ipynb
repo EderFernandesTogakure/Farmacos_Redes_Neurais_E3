{
  "nbformat": 4,
  "nbformat_minor": 0,
  "metadata": {
    "colab": {
      "name": "Avaliação Software.ipynb",
      "provenance": []
    },
    "kernelspec": {
      "name": "python3",
      "display_name": "Python 3"
    },
    "language_info": {
      "name": "python"
    }
  },
  "cells": [
    {
      "cell_type": "code",
      "metadata": {
        "id": "0WAd8wolEy-o"
      },
      "source": [
        "#Importando os módulos os quais serão utilizados para esse notebook\n",
        "import pandas as pd\n",
        "import matplotlib.pyplot as plt\n",
        "import numpy as np"
      ],
      "execution_count": 21,
      "outputs": []
    },
    {
      "cell_type": "markdown",
      "metadata": {
        "id": "9Fkz9WfMeb4_"
      },
      "source": [
        ""
      ]
    },
    {
      "cell_type": "code",
      "metadata": {
        "id": "v6OBVuNOK13W"
      },
      "source": [
        "#Inicializando o Data Frame da planilha gerada pela análise visual das fotos geradas pelo software de identificação\n",
        "df = pd.read_excel(\"/content/Avalação Visual do Software.xlsx\")"
      ],
      "execution_count": 22,
      "outputs": []
    },
    {
      "cell_type": "code",
      "metadata": {
        "id": "QSrE5cUmF4Ul"
      },
      "source": [
        "#Calculando o erro de identificação do software em cada imagem para as formas polimórficas 1 e 3\n",
        "df['Erro F1'] = np.abs(df[\"Quantidade F1 - Software\"] - df[\"Quantidade F1 - Especialista\"])\n",
        "df['Erro F3'] = np.abs(df[\"Quantidade F3 - Software\"] - df[\"Quantidade F3 - Especialista\"])"
      ],
      "execution_count": 23,
      "outputs": []
    },
    {
      "cell_type": "code",
      "metadata": {
        "colab": {
          "base_uri": "https://localhost:8080/",
          "height": 354
        },
        "id": "UAmnRTkvP_Qy",
        "outputId": "5b3fbdee-9592-4dd1-af2d-dfb822346053"
      },
      "source": [
        "#Visualizando o Data Frame\n",
        "df.head(10)"
      ],
      "execution_count": 24,
      "outputs": [
        {
          "output_type": "execute_result",
          "data": {
            "text/html": [
              "<div>\n",
              "<style scoped>\n",
              "    .dataframe tbody tr th:only-of-type {\n",
              "        vertical-align: middle;\n",
              "    }\n",
              "\n",
              "    .dataframe tbody tr th {\n",
              "        vertical-align: top;\n",
              "    }\n",
              "\n",
              "    .dataframe thead th {\n",
              "        text-align: right;\n",
              "    }\n",
              "</style>\n",
              "<table border=\"1\" class=\"dataframe\">\n",
              "  <thead>\n",
              "    <tr style=\"text-align: right;\">\n",
              "      <th></th>\n",
              "      <th>Imagem</th>\n",
              "      <th>Quantidade F1 - Software</th>\n",
              "      <th>Quantidade F3 - Software</th>\n",
              "      <th>Quantidade F1 - Especialista</th>\n",
              "      <th>Quantidade F3 - Especialista</th>\n",
              "      <th>Erro F1</th>\n",
              "      <th>Erro F3</th>\n",
              "    </tr>\n",
              "  </thead>\n",
              "  <tbody>\n",
              "    <tr>\n",
              "      <th>0</th>\n",
              "      <td>Carba_detect_Fig1</td>\n",
              "      <td>19</td>\n",
              "      <td>0</td>\n",
              "      <td>25</td>\n",
              "      <td>4</td>\n",
              "      <td>6</td>\n",
              "      <td>4</td>\n",
              "    </tr>\n",
              "    <tr>\n",
              "      <th>1</th>\n",
              "      <td>Carba_detect_Fig2</td>\n",
              "      <td>24</td>\n",
              "      <td>0</td>\n",
              "      <td>25</td>\n",
              "      <td>2</td>\n",
              "      <td>1</td>\n",
              "      <td>2</td>\n",
              "    </tr>\n",
              "    <tr>\n",
              "      <th>2</th>\n",
              "      <td>Carba_detect_Fig3</td>\n",
              "      <td>0</td>\n",
              "      <td>26</td>\n",
              "      <td>0</td>\n",
              "      <td>40</td>\n",
              "      <td>0</td>\n",
              "      <td>14</td>\n",
              "    </tr>\n",
              "    <tr>\n",
              "      <th>3</th>\n",
              "      <td>Carba_detect_Fig4</td>\n",
              "      <td>0</td>\n",
              "      <td>10</td>\n",
              "      <td>0</td>\n",
              "      <td>14</td>\n",
              "      <td>0</td>\n",
              "      <td>4</td>\n",
              "    </tr>\n",
              "    <tr>\n",
              "      <th>4</th>\n",
              "      <td>Carba_detect_Fig5</td>\n",
              "      <td>0</td>\n",
              "      <td>6</td>\n",
              "      <td>0</td>\n",
              "      <td>6</td>\n",
              "      <td>0</td>\n",
              "      <td>0</td>\n",
              "    </tr>\n",
              "    <tr>\n",
              "      <th>5</th>\n",
              "      <td>Carba_detect_Fig6</td>\n",
              "      <td>0</td>\n",
              "      <td>14</td>\n",
              "      <td>0</td>\n",
              "      <td>18</td>\n",
              "      <td>0</td>\n",
              "      <td>4</td>\n",
              "    </tr>\n",
              "    <tr>\n",
              "      <th>6</th>\n",
              "      <td>Carba_detect_Fig7</td>\n",
              "      <td>0</td>\n",
              "      <td>9</td>\n",
              "      <td>0</td>\n",
              "      <td>12</td>\n",
              "      <td>0</td>\n",
              "      <td>3</td>\n",
              "    </tr>\n",
              "    <tr>\n",
              "      <th>7</th>\n",
              "      <td>Carba_detect_Fig8</td>\n",
              "      <td>0</td>\n",
              "      <td>14</td>\n",
              "      <td>0</td>\n",
              "      <td>15</td>\n",
              "      <td>0</td>\n",
              "      <td>1</td>\n",
              "    </tr>\n",
              "    <tr>\n",
              "      <th>8</th>\n",
              "      <td>Carba_detect_Fig9</td>\n",
              "      <td>0</td>\n",
              "      <td>4</td>\n",
              "      <td>0</td>\n",
              "      <td>4</td>\n",
              "      <td>0</td>\n",
              "      <td>0</td>\n",
              "    </tr>\n",
              "    <tr>\n",
              "      <th>9</th>\n",
              "      <td>Carba_detect_Fig10</td>\n",
              "      <td>0</td>\n",
              "      <td>7</td>\n",
              "      <td>0</td>\n",
              "      <td>10</td>\n",
              "      <td>0</td>\n",
              "      <td>3</td>\n",
              "    </tr>\n",
              "  </tbody>\n",
              "</table>\n",
              "</div>"
            ],
            "text/plain": [
              "               Imagem  Quantidade F1 - Software  ...  Erro F1  Erro F3\n",
              "0   Carba_detect_Fig1                        19  ...        6        4\n",
              "1   Carba_detect_Fig2                        24  ...        1        2\n",
              "2   Carba_detect_Fig3                         0  ...        0       14\n",
              "3   Carba_detect_Fig4                         0  ...        0        4\n",
              "4   Carba_detect_Fig5                         0  ...        0        0\n",
              "5   Carba_detect_Fig6                         0  ...        0        4\n",
              "6   Carba_detect_Fig7                         0  ...        0        3\n",
              "7   Carba_detect_Fig8                         0  ...        0        1\n",
              "8   Carba_detect_Fig9                         0  ...        0        0\n",
              "9  Carba_detect_Fig10                         0  ...        0        3\n",
              "\n",
              "[10 rows x 7 columns]"
            ]
          },
          "metadata": {
            "tags": []
          },
          "execution_count": 24
        }
      ]
    },
    {
      "cell_type": "code",
      "metadata": {
        "colab": {
          "base_uri": "https://localhost:8080/",
          "height": 292
        },
        "id": "ijpz2RqSLfqQ",
        "outputId": "97282fdc-d753-4c7f-fb6a-8c168fe7be12"
      },
      "source": [
        "#Estatística descritiva do dataframe a partir da função describe do pandas\n",
        "df.describe()"
      ],
      "execution_count": 25,
      "outputs": [
        {
          "output_type": "execute_result",
          "data": {
            "text/html": [
              "<div>\n",
              "<style scoped>\n",
              "    .dataframe tbody tr th:only-of-type {\n",
              "        vertical-align: middle;\n",
              "    }\n",
              "\n",
              "    .dataframe tbody tr th {\n",
              "        vertical-align: top;\n",
              "    }\n",
              "\n",
              "    .dataframe thead th {\n",
              "        text-align: right;\n",
              "    }\n",
              "</style>\n",
              "<table border=\"1\" class=\"dataframe\">\n",
              "  <thead>\n",
              "    <tr style=\"text-align: right;\">\n",
              "      <th></th>\n",
              "      <th>Quantidade F1 - Software</th>\n",
              "      <th>Quantidade F3 - Software</th>\n",
              "      <th>Quantidade F1 - Especialista</th>\n",
              "      <th>Quantidade F3 - Especialista</th>\n",
              "      <th>Erro F1</th>\n",
              "      <th>Erro F3</th>\n",
              "    </tr>\n",
              "  </thead>\n",
              "  <tbody>\n",
              "    <tr>\n",
              "      <th>count</th>\n",
              "      <td>50.000000</td>\n",
              "      <td>50.000000</td>\n",
              "      <td>50.000000</td>\n",
              "      <td>50.000000</td>\n",
              "      <td>50.000000</td>\n",
              "      <td>50.00000</td>\n",
              "    </tr>\n",
              "    <tr>\n",
              "      <th>mean</th>\n",
              "      <td>7.680000</td>\n",
              "      <td>8.660000</td>\n",
              "      <td>10.020000</td>\n",
              "      <td>11.820000</td>\n",
              "      <td>2.340000</td>\n",
              "      <td>3.16000</td>\n",
              "    </tr>\n",
              "    <tr>\n",
              "      <th>std</th>\n",
              "      <td>9.873568</td>\n",
              "      <td>7.911784</td>\n",
              "      <td>13.023511</td>\n",
              "      <td>9.063697</td>\n",
              "      <td>4.202089</td>\n",
              "      <td>2.66006</td>\n",
              "    </tr>\n",
              "    <tr>\n",
              "      <th>min</th>\n",
              "      <td>0.000000</td>\n",
              "      <td>0.000000</td>\n",
              "      <td>0.000000</td>\n",
              "      <td>0.000000</td>\n",
              "      <td>0.000000</td>\n",
              "      <td>0.00000</td>\n",
              "    </tr>\n",
              "    <tr>\n",
              "      <th>25%</th>\n",
              "      <td>0.000000</td>\n",
              "      <td>0.000000</td>\n",
              "      <td>0.000000</td>\n",
              "      <td>4.000000</td>\n",
              "      <td>0.000000</td>\n",
              "      <td>2.00000</td>\n",
              "    </tr>\n",
              "    <tr>\n",
              "      <th>50%</th>\n",
              "      <td>1.500000</td>\n",
              "      <td>9.000000</td>\n",
              "      <td>1.500000</td>\n",
              "      <td>11.000000</td>\n",
              "      <td>0.000000</td>\n",
              "      <td>3.00000</td>\n",
              "    </tr>\n",
              "    <tr>\n",
              "      <th>75%</th>\n",
              "      <td>19.000000</td>\n",
              "      <td>14.000000</td>\n",
              "      <td>24.000000</td>\n",
              "      <td>17.750000</td>\n",
              "      <td>3.000000</td>\n",
              "      <td>4.00000</td>\n",
              "    </tr>\n",
              "    <tr>\n",
              "      <th>max</th>\n",
              "      <td>31.000000</td>\n",
              "      <td>31.000000</td>\n",
              "      <td>40.000000</td>\n",
              "      <td>40.000000</td>\n",
              "      <td>20.000000</td>\n",
              "      <td>14.00000</td>\n",
              "    </tr>\n",
              "  </tbody>\n",
              "</table>\n",
              "</div>"
            ],
            "text/plain": [
              "       Quantidade F1 - Software  Quantidade F3 - Software  ...    Erro F1   Erro F3\n",
              "count                 50.000000                 50.000000  ...  50.000000  50.00000\n",
              "mean                   7.680000                  8.660000  ...   2.340000   3.16000\n",
              "std                    9.873568                  7.911784  ...   4.202089   2.66006\n",
              "min                    0.000000                  0.000000  ...   0.000000   0.00000\n",
              "25%                    0.000000                  0.000000  ...   0.000000   2.00000\n",
              "50%                    1.500000                  9.000000  ...   0.000000   3.00000\n",
              "75%                   19.000000                 14.000000  ...   3.000000   4.00000\n",
              "max                   31.000000                 31.000000  ...  20.000000  14.00000\n",
              "\n",
              "[8 rows x 6 columns]"
            ]
          },
          "metadata": {
            "tags": []
          },
          "execution_count": 25
        }
      ]
    },
    {
      "cell_type": "code",
      "metadata": {
        "colab": {
          "base_uri": "https://localhost:8080/",
          "height": 283
        },
        "id": "0BwnlM0ubsL-",
        "outputId": "055d375e-0f22-4677-8062-6d93a0e5d075"
      },
      "source": [
        "#Boxplot dos Erros para visualizar a distribuição dos erros associados às formas 1 e 3\n",
        "df.boxplot(column=[\"Erro F1\",\"Erro F3\"])"
      ],
      "execution_count": 26,
      "outputs": [
        {
          "output_type": "execute_result",
          "data": {
            "text/plain": [
              "<matplotlib.axes._subplots.AxesSubplot at 0x7f68835d3c90>"
            ]
          },
          "metadata": {
            "tags": []
          },
          "execution_count": 26
        },
        {
          "output_type": "display_data",
          "data": {
            "image/png": "[encoded data removed]",
            "text/plain": [
              "<Figure size 432x288 with 1 Axes>"
            ]
          },
          "metadata": {
            "tags": [],
            "needs_background": "light"
          }
        }
      ]
    },
    {
      "cell_type": "code",
      "metadata": {
        "id": "GypjV9uOrJcO"
      },
      "source": [
        "#cálculo do acerto percentual do software em relação a todas as formas que foram identificadas por ele e pelo especialista\n",
        "total_especialista = df[\"Quantidade F1 - Especialista\"].sum() + df[\"Quantidade F3 - Especialista\"].sum()\n",
        "total_software = df[\"Quantidade F1 - Software\"].sum() + df[\"Quantidade F3 - Software\"].sum()\n",
        "acerto_percentual = (total_software/total_especialista)*100"
      ],
      "execution_count": 27,
      "outputs": []
    },
    {
      "cell_type": "code",
      "metadata": {
        "colab": {
          "base_uri": "https://localhost:8080/",
          "height": 247
        },
        "id": "UGDjdxFx5OJx",
        "outputId": "9f81f7cd-f365-47b6-bff1-ab8dfbe9300e"
      },
      "source": [
        "#visualização gráfica por meio de um piechart\n",
        "labels = [\"Acertos Software\", \"Erros Software\"]\n",
        "sizes = [acerto_percentual, 100 - acerto_percentual]\n",
        "\n",
        "fig1, ax1 = plt.subplots()\n",
        "ax1.pie(sizes,  labels=labels, autopct='%1.1f%%',\n",
        "        shadow=True, startangle=90)\n",
        "ax1.axis('equal')  # Equal aspect ratio ensures that pie is drawn as a circle.\n",
        "plt.show()"
      ],
      "execution_count": 28,
      "outputs": [
        {
          "output_type": "display_data",
          "data": {
            "image/png": "[encoded data removed]",
            "text/plain": [
              "<Figure size 432x288 with 1 Axes>"
            ]
          },
          "metadata": {
            "tags": []
          }
        }
      ]
    },
    {
      "cell_type": "code",
      "metadata": {
        "id": "mZ4pGJtfIqr6"
      },
      "source": [
        ""
      ],
      "execution_count": 28,
      "outputs": []
    }
  ]
}